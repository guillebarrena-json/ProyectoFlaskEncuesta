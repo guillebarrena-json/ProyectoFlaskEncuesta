# Importar las bibliotecas necesarias
import duckdb
import pandas as pd

# Conectar a la base de datos DuckDB
con = duckdb.connect('C:\\Users\\usuario\\Desktop\\Proyectos\\GUILLE\\PGB\\Formulario Flask\\coffeecms.duckdb')

# Ejecutar la consulta para seleccionar todos los usuarios
query = "SELECT * FROM users"
user_data = con.execute(query).fetchdf()  # Fetch the result as a DataFrame

# Cerrar la conexión
con.close()

# Mostrar los datos en un DataFrame
user_data
